{
 "cells": [
  {
   "cell_type": "code",
   "execution_count": 12,
   "metadata": {},
   "outputs": [
    {
     "name": "stdout",
     "output_type": "stream",
     "text": [
      "enter name:dubey\n",
      "enter account:23\n",
      "ur initial bal.: 100\n",
      "your passwd: teer\n"
     ]
    }
   ],
   "source": [
    "#accountdetail\n",
    "data={\n",
    "    \"name\":[],\n",
    "      \"account\":[],\n",
    "     \"balance\":[],\n",
    "      \"password\":[]\n",
    "}\n",
    "from getpass import getpass\n",
    "name =input(\"enter name:\")\n",
    "account=int(input(\"enter account:\"))\n",
    "balance=float(input(\"ur initial bal.: \"))\n",
    "password=(input(\"your passwd: \"))\n",
    "data['name'].append(name)\n",
    "data['account'].append(account)\n",
    "data['password'].append(password)\n",
    "data['balance'].append(balance)\n",
    "\n"
   ]
  },
  {
   "cell_type": "code",
   "execution_count": 8,
   "metadata": {},
   "outputs": [
    {
     "name": "stdout",
     "output_type": "stream",
     "text": [
      "hELLo WoRLD\n",
      "HELLO WORLD\n",
      "hello world\n"
     ]
    }
   ],
   "source": [
    "s=\"HellO wOrld\"\n",
    "s1=s.swapcase()\n",
    "s2=s.upper()\n",
    "s3=s.lower()\n",
    "print(s1)\n",
    "print(s2)\n",
    "print(s3)\n",
    "\n"
   ]
  },
  {
   "cell_type": "code",
   "execution_count": 13,
   "metadata": {},
   "outputs": [
    {
     "name": "stdout",
     "output_type": "stream",
     "text": [
      "{'name': ['dubey'], 'account': [23], 'balance': [100.0], 'password': ['teer']}\n"
     ]
    }
   ],
   "source": [
    "print(data\n",
    "    )"
   ]
  },
  {
   "cell_type": "code",
   "execution_count": null,
   "metadata": {},
   "outputs": [],
   "source": []
  }
 ],
 "metadata": {
  "kernelspec": {
   "display_name": "Python 3",
   "language": "python",
   "name": "python3"
  },
  "language_info": {
   "codemirror_mode": {
    "name": "ipython",
    "version": 3
   },
   "file_extension": ".py",
   "mimetype": "text/x-python",
   "name": "python",
   "nbconvert_exporter": "python",
   "pygments_lexer": "ipython3",
   "version": "3.6.5"
  }
 },
 "nbformat": 4,
 "nbformat_minor": 2
}
