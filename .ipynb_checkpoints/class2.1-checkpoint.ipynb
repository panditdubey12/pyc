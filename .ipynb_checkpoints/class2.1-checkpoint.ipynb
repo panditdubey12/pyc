{
 "cells": [
  {
   "cell_type": "code",
   "execution_count": 3,
   "metadata": {},
   "outputs": [
    {
     "name": "stdout",
     "output_type": "stream",
     "text": [
      "enter name:f\n",
      "enter account:22\n",
      "ur initial bal.2\n",
      "your passwdds\n"
     ]
    }
   ],
   "source": [
    "#accountdetail\n",
    "data={\n",
    "    \"name\":[],\n",
    "      \"account\":[],\n",
    "     \"balance\":[],\n",
    "      \"password\":[]\n",
    "}\n",
    "from getpass import getpass\n",
    "name =input(\"enter name:\")\n",
    "account=int(input(\"enter account:\"))\n",
    "balance=float(input(\"ur initial bal.\"))\n",
    "password=(input(\"your passwd\"))\n",
    "data['name'].append(name)\n",
    "data['account'].append(account)\n",
    "data['password'].append(password)\n",
    "data['balance'].append(balance)\n",
    "\n"
   ]
  },
  {
   "cell_type": "code",
   "execution_count": 4,
   "metadata": {},
   "outputs": [
    {
     "data": {
      "text/plain": [
       "'hello world'"
      ]
     },
     "execution_count": 4,
     "metadata": {},
     "output_type": "execute_result"
    }
   ],
   "source": [
    "s=\"hello world\"\n",
    "\n",
    "s"
   ]
  },
  {
   "cell_type": "code",
   "execution_count": null,
   "metadata": {},
   "outputs": [],
   "source": []
  }
 ],
 "metadata": {
  "kernelspec": {
   "display_name": "Python 3",
   "language": "python",
   "name": "python3"
  },
  "language_info": {
   "codemirror_mode": {
    "name": "ipython",
    "version": 3
   },
   "file_extension": ".py",
   "mimetype": "text/x-python",
   "name": "python",
   "nbconvert_exporter": "python",
   "pygments_lexer": "ipython3",
   "version": "3.6.5"
  }
 },
 "nbformat": 4,
 "nbformat_minor": 2
}
